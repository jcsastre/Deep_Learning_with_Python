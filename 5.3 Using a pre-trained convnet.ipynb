{
 "cells": [
  {
   "cell_type": "code",
   "execution_count": 1,
   "metadata": {
    "collapsed": false,
    "deletable": true,
    "editable": true
   },
   "outputs": [],
   "source": [
    "from __builtin__ import False"
   ]
  },
  {
   "cell_type": "markdown",
   "metadata": {
    "deletable": true,
    "editable": true
   },
   "source": [
    "## 5.3.1 Feature extraction"
   ]
  },
  {
   "cell_type": "code",
   "execution_count": 2,
   "metadata": {
    "collapsed": false,
    "deletable": true,
    "editable": true
   },
   "outputs": [
    {
     "name": "stderr",
     "output_type": "stream",
     "text": [
      "Using TensorFlow backend.\n"
     ]
    }
   ],
   "source": [
    "from keras.applications import VGG16"
   ]
  },
  {
   "cell_type": "code",
   "execution_count": 3,
   "metadata": {
    "collapsed": true,
    "deletable": true,
    "editable": true
   },
   "outputs": [],
   "source": [
    "conv_base = VGG16(\n",
    "    weights='imagenet',\n",
    "    include_top=False,\n",
    "    input_shape=(150, 150, 3)\n",
    ")"
   ]
  },
  {
   "cell_type": "code",
   "execution_count": 4,
   "metadata": {
    "collapsed": false,
    "deletable": true,
    "editable": true
   },
   "outputs": [
    {
     "name": "stdout",
     "output_type": "stream",
     "text": [
      "_________________________________________________________________\n",
      "Layer (type)                 Output Shape              Param #   \n",
      "=================================================================\n",
      "input_1 (InputLayer)         (None, 150, 150, 3)       0         \n",
      "_________________________________________________________________\n",
      "block1_conv1 (Conv2D)        (None, 150, 150, 64)      1792      \n",
      "_________________________________________________________________\n",
      "block1_conv2 (Conv2D)        (None, 150, 150, 64)      36928     \n",
      "_________________________________________________________________\n",
      "block1_pool (MaxPooling2D)   (None, 75, 75, 64)        0         \n",
      "_________________________________________________________________\n",
      "block2_conv1 (Conv2D)        (None, 75, 75, 128)       73856     \n",
      "_________________________________________________________________\n",
      "block2_conv2 (Conv2D)        (None, 75, 75, 128)       147584    \n",
      "_________________________________________________________________\n",
      "block2_pool (MaxPooling2D)   (None, 37, 37, 128)       0         \n",
      "_________________________________________________________________\n",
      "block3_conv1 (Conv2D)        (None, 37, 37, 256)       295168    \n",
      "_________________________________________________________________\n",
      "block3_conv2 (Conv2D)        (None, 37, 37, 256)       590080    \n",
      "_________________________________________________________________\n",
      "block3_conv3 (Conv2D)        (None, 37, 37, 256)       590080    \n",
      "_________________________________________________________________\n",
      "block3_pool (MaxPooling2D)   (None, 18, 18, 256)       0         \n",
      "_________________________________________________________________\n",
      "block4_conv1 (Conv2D)        (None, 18, 18, 512)       1180160   \n",
      "_________________________________________________________________\n",
      "block4_conv2 (Conv2D)        (None, 18, 18, 512)       2359808   \n",
      "_________________________________________________________________\n",
      "block4_conv3 (Conv2D)        (None, 18, 18, 512)       2359808   \n",
      "_________________________________________________________________\n",
      "block4_pool (MaxPooling2D)   (None, 9, 9, 512)         0         \n",
      "_________________________________________________________________\n",
      "block5_conv1 (Conv2D)        (None, 9, 9, 512)         2359808   \n",
      "_________________________________________________________________\n",
      "block5_conv2 (Conv2D)        (None, 9, 9, 512)         2359808   \n",
      "_________________________________________________________________\n",
      "block5_conv3 (Conv2D)        (None, 9, 9, 512)         2359808   \n",
      "_________________________________________________________________\n",
      "block5_pool (MaxPooling2D)   (None, 4, 4, 512)         0         \n",
      "=================================================================\n",
      "Total params: 14,714,688\n",
      "Trainable params: 14,714,688\n",
      "Non-trainable params: 0\n",
      "_________________________________________________________________\n"
     ]
    }
   ],
   "source": [
    "conv_base.summary()"
   ]
  },
  {
   "cell_type": "markdown",
   "metadata": {
    "deletable": true,
    "editable": true
   },
   "source": [
    "### 5.3.1.A Feature extraction Way A"
   ]
  },
  {
   "cell_type": "markdown",
   "metadata": {
    "deletable": true,
    "editable": true
   },
   "source": [
    "Running the convolutional base over our dataset, recording its output to a Numpy array\n",
    "on disk, then using this data as input to a standalone densely-connected classifier similar to those you have seen in the first chapters of this book. This solution is very fast and cheap to run, because it only requires running the convolutional base once for every input image, and the convolutional base is by far the most expensive part of the pipeline.\n",
    "However, for the exact same reason, this technique would not allow us to leverage data\n",
    "augmentation at all."
   ]
  },
  {
   "cell_type": "code",
   "execution_count": 5,
   "metadata": {
    "collapsed": false,
    "deletable": true,
    "editable": true
   },
   "outputs": [
    {
     "name": "stdout",
     "output_type": "stream",
     "text": [
      "Found 2000 images belonging to 2 classes.\n",
      "Found 1000 images belonging to 2 classes.\n",
      "Found 1000 images belonging to 2 classes.\n"
     ]
    }
   ],
   "source": [
    "import os\n",
    "import numpy as np\n",
    "from keras.preprocessing.image import ImageDataGenerator\n",
    "\n",
    "base_dir = 'kaggle-dogs-cats-dataset-reduced'\n",
    "train_dir = os.path.join(base_dir, 'train')\n",
    "validation_dir = os.path.join(base_dir, 'validation')\n",
    "test_dir = os.path.join(base_dir, 'test')\n",
    "\n",
    "datagen = ImageDataGenerator(rescale=1./255)\n",
    "\n",
    "batch_size = 20\n",
    "\n",
    "def extract_features(directory, sample_count):\n",
    "    features = np.zeros(shape=(sample_count, 4, 4, 512))\n",
    "    labels = np.zeros(shape=sample_count)\n",
    "    generator = datagen.flow_from_directory(\n",
    "        directory,\n",
    "        target_size=(150, 150),\n",
    "        batch_size=batch_size,\n",
    "        class_mode='binary'\n",
    "    )\n",
    "    i = 0\n",
    "    for inputs_batch, labels_batch in generator:\n",
    "        features_batch = conv_base.predict(inputs_batch)\n",
    "        features[i * batch_size : (i + 1) * batch_size] = features_batch\n",
    "        labels[i * batch_size : (i + 1) * batch_size] = labels_batch\n",
    "        i += 1\n",
    "        if i * batch_size >= sample_count:\n",
    "            # Note that since generators yield data indefinitely in a loop,\n",
    "            # we must `break` onces every image has been seen once.\n",
    "            break\n",
    "    return features, labels\n",
    "\n",
    "train_features, train_labels = extract_features(train_dir, 2000)\n",
    "validation_features, validation_labels = extract_features(validation_dir, 1000)\n",
    "test_features, test_labels = extract_features(test_dir, 1000)"
   ]
  },
  {
   "cell_type": "code",
   "execution_count": 6,
   "metadata": {
    "collapsed": false,
    "deletable": true,
    "editable": true
   },
   "outputs": [
    {
     "name": "stdout",
     "output_type": "stream",
     "text": [
      "(2000, 4, 4, 512)\n",
      "(2000,)\n"
     ]
    }
   ],
   "source": [
    "print train_features.shape\n",
    "print train_labels.shape"
   ]
  },
  {
   "cell_type": "markdown",
   "metadata": {
    "deletable": true,
    "editable": true
   },
   "source": [
    "We will feed them to a densely-connected classifier, so first we must flatten them to (samples,\n",
    "8192).\n",
    "\n",
    "(4 x 4 x 512 = 8192)"
   ]
  },
  {
   "cell_type": "code",
   "execution_count": 7,
   "metadata": {
    "collapsed": true,
    "deletable": true,
    "editable": true
   },
   "outputs": [],
   "source": [
    "train_features = np.reshape(train_features, (2000, 4 * 4 * 512))\n",
    "validation_features = np.reshape(validation_features, (1000, 4 * 4 * 512))\n",
    "test_features = np.reshape(test_features, (1000, 4 * 4 * 512))"
   ]
  },
  {
   "cell_type": "code",
   "execution_count": 8,
   "metadata": {
    "collapsed": false,
    "deletable": true,
    "editable": true
   },
   "outputs": [
    {
     "name": "stdout",
     "output_type": "stream",
     "text": [
      "(2000, 8192)\n"
     ]
    }
   ],
   "source": [
    "print train_features.shape"
   ]
  },
  {
   "cell_type": "markdown",
   "metadata": {
    "deletable": true,
    "editable": true
   },
   "source": [
    "At this point, we can define our densely-connected classifier (note the use of dropout\n",
    "for regularization), and train it on the data and labels that we just recorded:"
   ]
  },
  {
   "cell_type": "code",
   "execution_count": 9,
   "metadata": {
    "collapsed": false,
    "deletable": true,
    "editable": true
   },
   "outputs": [
    {
     "name": "stdout",
     "output_type": "stream",
     "text": [
      "Train on 2000 samples, validate on 1000 samples\n",
      "Epoch 1/30\n",
      "0s - loss: 0.4437 - acc: 0.7870 - val_loss: 0.2973 - val_acc: 0.8860\n",
      "Epoch 2/30\n",
      "0s - loss: 0.2922 - acc: 0.8690 - val_loss: 0.2728 - val_acc: 0.8790\n",
      "Epoch 3/30\n",
      "0s - loss: 0.2400 - acc: 0.9035 - val_loss: 0.2621 - val_acc: 0.8950\n",
      "Epoch 4/30\n",
      "0s - loss: 0.2038 - acc: 0.9195 - val_loss: 0.2725 - val_acc: 0.8850\n",
      "Epoch 5/30\n",
      "0s - loss: 0.1706 - acc: 0.9355 - val_loss: 0.2414 - val_acc: 0.9020\n",
      "Epoch 6/30\n",
      "0s - loss: 0.1527 - acc: 0.9455 - val_loss: 0.2359 - val_acc: 0.9050\n",
      "Epoch 7/30\n",
      "0s - loss: 0.1262 - acc: 0.9530 - val_loss: 0.2645 - val_acc: 0.9010\n",
      "Epoch 8/30\n",
      "0s - loss: 0.1128 - acc: 0.9595 - val_loss: 0.2413 - val_acc: 0.8940\n",
      "Epoch 9/30\n",
      "0s - loss: 0.0990 - acc: 0.9650 - val_loss: 0.2613 - val_acc: 0.9000\n",
      "Epoch 10/30\n",
      "0s - loss: 0.0943 - acc: 0.9680 - val_loss: 0.2523 - val_acc: 0.8990\n",
      "Epoch 11/30\n",
      "0s - loss: 0.0767 - acc: 0.9740 - val_loss: 0.2681 - val_acc: 0.8980\n",
      "Epoch 12/30\n",
      "0s - loss: 0.0667 - acc: 0.9765 - val_loss: 0.2649 - val_acc: 0.9000\n",
      "Epoch 13/30\n",
      "0s - loss: 0.0627 - acc: 0.9785 - val_loss: 0.2784 - val_acc: 0.8990\n",
      "Epoch 14/30\n",
      "0s - loss: 0.0528 - acc: 0.9835 - val_loss: 0.2854 - val_acc: 0.9010\n",
      "Epoch 15/30\n",
      "0s - loss: 0.0482 - acc: 0.9835 - val_loss: 0.3047 - val_acc: 0.9000\n",
      "Epoch 16/30\n",
      "0s - loss: 0.0424 - acc: 0.9880 - val_loss: 0.3164 - val_acc: 0.8970\n",
      "Epoch 17/30\n",
      "0s - loss: 0.0328 - acc: 0.9935 - val_loss: 0.3003 - val_acc: 0.9050\n",
      "Epoch 18/30\n",
      "0s - loss: 0.0311 - acc: 0.9915 - val_loss: 0.3283 - val_acc: 0.9060\n",
      "Epoch 19/30\n",
      "0s - loss: 0.0289 - acc: 0.9945 - val_loss: 0.3995 - val_acc: 0.8840\n",
      "Epoch 20/30\n",
      "0s - loss: 0.0248 - acc: 0.9945 - val_loss: 0.3206 - val_acc: 0.8990\n",
      "Epoch 21/30\n",
      "0s - loss: 0.0172 - acc: 0.9965 - val_loss: 0.3438 - val_acc: 0.8980\n",
      "Epoch 22/30\n",
      "0s - loss: 0.0154 - acc: 0.9980 - val_loss: 0.3812 - val_acc: 0.8900\n",
      "Epoch 23/30\n",
      "0s - loss: 0.0150 - acc: 0.9985 - val_loss: 0.3745 - val_acc: 0.8930\n",
      "Epoch 24/30\n",
      "0s - loss: 0.0142 - acc: 0.9975 - val_loss: 0.3802 - val_acc: 0.8980\n",
      "Epoch 25/30\n",
      "0s - loss: 0.0124 - acc: 0.9975 - val_loss: 0.3762 - val_acc: 0.9010\n",
      "Epoch 26/30\n",
      "0s - loss: 0.0122 - acc: 0.9980 - val_loss: 0.3872 - val_acc: 0.9000\n",
      "Epoch 27/30\n",
      "0s - loss: 0.0079 - acc: 0.9990 - val_loss: 0.4030 - val_acc: 0.9040\n",
      "Epoch 28/30\n",
      "0s - loss: 0.0075 - acc: 0.9995 - val_loss: 0.4001 - val_acc: 0.9010\n",
      "Epoch 29/30\n",
      "0s - loss: 0.0069 - acc: 0.9985 - val_loss: 0.4127 - val_acc: 0.9010\n",
      "Epoch 30/30\n",
      "0s - loss: 0.0076 - acc: 0.9990 - val_loss: 0.4404 - val_acc: 0.9000\n"
     ]
    }
   ],
   "source": [
    "from keras import models\n",
    "from keras import layers\n",
    "from keras import optimizers\n",
    "\n",
    "model = models.Sequential()\n",
    "model.add(layers.Dense(256, activation='relu', input_dim=4 * 4 * 512))\n",
    "model.add(layers.Dropout(0.5))\n",
    "model.add(layers.Dense(1, activation='sigmoid'))\n",
    "\n",
    "model.compile(\n",
    "    optimizer=optimizers.RMSprop(lr=1e-4),\n",
    "    loss='binary_crossentropy',\n",
    "    metrics=['acc']\n",
    ")\n",
    "\n",
    "history = model.fit(\n",
    "    train_features, train_labels,\n",
    "    epochs=30,\n",
    "    batch_size=20,\n",
    "    validation_data=(validation_features, validation_labels),\n",
    "    verbose=2\n",
    ")"
   ]
  },
  {
   "cell_type": "code",
   "execution_count": 10,
   "metadata": {
    "collapsed": false,
    "deletable": true,
    "editable": true
   },
   "outputs": [
    {
     "data": {
      "image/png": "[encoded data removed]",
      "text/plain": [
       "<matplotlib.figure.Figure at 0x7f73d00b3d90>"
      ]
     },
     "metadata": {},
     "output_type": "display_data"
    },
    {
     "data": {
      "image/png": "[encoded data removed]",
      "text/plain": [
       "<matplotlib.figure.Figure at 0x7f73bc0a9b90>"
      ]
     },
     "metadata": {},
     "output_type": "display_data"
    }
   ],
   "source": [
    "import matplotlib.pyplot as plt\n",
    "\n",
    "acc = history.history['acc']\n",
    "val_acc = history.history['val_acc']\n",
    "loss = history.history['loss']\n",
    "val_loss = history.history['val_loss']\n",
    "\n",
    "epochs = range(len(acc))\n",
    "\n",
    "plt.plot(epochs, acc, 'bo')\n",
    "plt.plot(epochs, val_acc, 'g')\n",
    "plt.title('Training and validation accuracy')\n",
    "\n",
    "plt.figure()\n",
    "\n",
    "plt.plot(epochs, loss, 'bo')\n",
    "plt.plot(epochs, val_loss, 'g')\n",
    "plt.title('Training and validation loss')\n",
    "\n",
    "plt.show()"
   ]
  },
  {
   "cell_type": "markdown",
   "metadata": {
    "deletable": true,
    "editable": true
   },
   "source": [
    "### 5.3.1.B Feature extraction Way B"
   ]
  },
  {
   "cell_type": "code",
   "execution_count": 11,
   "metadata": {
    "collapsed": false,
    "deletable": true,
    "editable": true
   },
   "outputs": [
    {
     "name": "stdout",
     "output_type": "stream",
     "text": [
      "_________________________________________________________________\n",
      "Layer (type)                 Output Shape              Param #   \n",
      "=================================================================\n",
      "vgg16 (Model)                (None, 4, 4, 512)         14714688  \n",
      "_________________________________________________________________\n",
      "flatten_1 (Flatten)          (None, 8192)              0         \n",
      "_________________________________________________________________\n",
      "dense_3 (Dense)              (None, 256)               2097408   \n",
      "_________________________________________________________________\n",
      "dense_4 (Dense)              (None, 1)                 257       \n",
      "=================================================================\n",
      "Total params: 16,812,353\n",
      "Trainable params: 16,812,353\n",
      "Non-trainable params: 0\n",
      "_________________________________________________________________\n"
     ]
    }
   ],
   "source": [
    "from keras import models\n",
    "from keras import layers\n",
    "\n",
    "model = models.Sequential()\n",
    "model.add(conv_base)\n",
    "model.add(layers.Flatten())\n",
    "model.add(layers.Dense(256, activation='relu'))\n",
    "model.add(layers.Dense(1, activation='sigmoid'))\n",
    "\n",
    "model.summary()"
   ]
  },
  {
   "cell_type": "code",
   "execution_count": 12,
   "metadata": {
    "collapsed": false,
    "deletable": true,
    "editable": true
   },
   "outputs": [
    {
     "name": "stdout",
     "output_type": "stream",
     "text": [
      "('This is the number of trainable weights before freezing the conv base: ', 30)\n",
      "('This is the number of trainable weights after freezing the conv base: ', 4)\n"
     ]
    }
   ],
   "source": [
    "print('This is the number of trainable weights before freezing the conv base: ', len(model.trainable_weights))\n",
    "conv_base.trainable = False\n",
    "print('This is the number of trainable weights after freezing the conv base: ', len(model.trainable_weights))"
   ]
  },
  {
   "cell_type": "code",
   "execution_count": 13,
   "metadata": {
    "collapsed": false,
    "deletable": true,
    "editable": true
   },
   "outputs": [
    {
     "name": "stdout",
     "output_type": "stream",
     "text": [
      "Found 2000 images belonging to 2 classes.\n",
      "Found 1000 images belonging to 2 classes.\n",
      "Epoch 1/40\n",
      "15s - loss: 0.7170 - acc: 0.5190 - val_loss: 0.6683 - val_acc: 0.6610\n",
      "Epoch 2/40\n",
      "15s - loss: 0.6408 - acc: 0.6460 - val_loss: 0.4955 - val_acc: 0.7500\n",
      "Epoch 3/40\n",
      "14s - loss: 0.5452 - acc: 0.7185 - val_loss: 0.3852 - val_acc: 0.8600\n",
      "Epoch 4/40\n",
      "14s - loss: 0.4408 - acc: 0.7965 - val_loss: 0.2404 - val_acc: 0.9050\n",
      "Epoch 5/40\n",
      "14s - loss: 0.3997 - acc: 0.8280 - val_loss: 0.1794 - val_acc: 0.9300\n",
      "Epoch 6/40\n",
      "14s - loss: 0.3708 - acc: 0.8440 - val_loss: 0.1876 - val_acc: 0.9250\n",
      "Epoch 7/40\n",
      "14s - loss: 0.3228 - acc: 0.8690 - val_loss: 0.2142 - val_acc: 0.9020\n",
      "Epoch 8/40\n",
      "15s - loss: 0.3091 - acc: 0.8760 - val_loss: 0.2307 - val_acc: 0.9110\n",
      "Epoch 9/40\n",
      "14s - loss: 0.2673 - acc: 0.8835 - val_loss: 0.5098 - val_acc: 0.8520\n",
      "Epoch 10/40\n",
      "15s - loss: 0.3211 - acc: 0.8800 - val_loss: 0.1346 - val_acc: 0.9520\n",
      "Epoch 11/40\n",
      "14s - loss: 0.2317 - acc: 0.9050 - val_loss: 0.2276 - val_acc: 0.9140\n",
      "Epoch 12/40\n",
      "14s - loss: 0.2406 - acc: 0.8970 - val_loss: 0.1551 - val_acc: 0.9370\n",
      "Epoch 13/40\n",
      "14s - loss: 0.2733 - acc: 0.9005 - val_loss: 0.1259 - val_acc: 0.9420\n",
      "Epoch 14/40\n",
      "14s - loss: 0.2409 - acc: 0.8970 - val_loss: 0.1568 - val_acc: 0.9300\n",
      "Epoch 15/40\n",
      "14s - loss: 0.2227 - acc: 0.9125 - val_loss: 1.0194 - val_acc: 0.8160\n",
      "Epoch 16/40\n",
      "14s - loss: 0.2438 - acc: 0.9255 - val_loss: 0.3035 - val_acc: 0.9000\n",
      "Epoch 17/40\n",
      "14s - loss: 0.2221 - acc: 0.9205 - val_loss: 0.1601 - val_acc: 0.9360\n",
      "Epoch 18/40\n",
      "14s - loss: 0.1970 - acc: 0.9355 - val_loss: 0.1451 - val_acc: 0.9530\n",
      "Epoch 19/40\n",
      "14s - loss: 0.2217 - acc: 0.9155 - val_loss: 0.2281 - val_acc: 0.9010\n",
      "Epoch 20/40\n",
      "14s - loss: 0.2384 - acc: 0.9180 - val_loss: 0.1596 - val_acc: 0.9300\n",
      "Epoch 21/40\n",
      "15s - loss: 0.2071 - acc: 0.9170 - val_loss: 0.1551 - val_acc: 0.9440\n",
      "Epoch 22/40\n",
      "15s - loss: 0.4312 - acc: 0.9040 - val_loss: 0.1382 - val_acc: 0.9460\n",
      "Epoch 23/40\n",
      "14s - loss: 0.2148 - acc: 0.9235 - val_loss: 0.1108 - val_acc: 0.9540\n",
      "Epoch 24/40\n",
      "15s - loss: 0.2315 - acc: 0.9210 - val_loss: 0.1015 - val_acc: 0.9640\n",
      "Epoch 25/40\n",
      "14s - loss: 0.2436 - acc: 0.9290 - val_loss: 0.1318 - val_acc: 0.9450\n",
      "Epoch 26/40\n",
      "14s - loss: 0.2177 - acc: 0.9300 - val_loss: 0.1240 - val_acc: 0.9570\n",
      "Epoch 27/40\n",
      "15s - loss: 0.1889 - acc: 0.9355 - val_loss: 0.1289 - val_acc: 0.9530\n",
      "Epoch 28/40\n",
      "14s - loss: 0.2020 - acc: 0.9310 - val_loss: 0.1606 - val_acc: 0.9270\n",
      "Epoch 29/40\n",
      "15s - loss: 0.1910 - acc: 0.9240 - val_loss: 0.1403 - val_acc: 0.9550\n",
      "Epoch 30/40\n",
      "14s - loss: 0.2396 - acc: 0.9175 - val_loss: 0.5477 - val_acc: 0.8890\n",
      "Epoch 31/40\n",
      "15s - loss: 0.2321 - acc: 0.9260 - val_loss: 0.1801 - val_acc: 0.9380\n",
      "Epoch 32/40\n",
      "15s - loss: 0.1791 - acc: 0.9360 - val_loss: 0.2377 - val_acc: 0.9170\n",
      "Epoch 33/40\n",
      "14s - loss: 0.2283 - acc: 0.9195 - val_loss: 0.6257 - val_acc: 0.9210\n",
      "Epoch 34/40\n",
      "14s - loss: 0.2102 - acc: 0.9175 - val_loss: 0.1717 - val_acc: 0.9250\n",
      "Epoch 35/40\n",
      "14s - loss: 0.2254 - acc: 0.9285 - val_loss: 0.3186 - val_acc: 0.9280\n",
      "Epoch 36/40\n",
      "14s - loss: 0.2459 - acc: 0.9325 - val_loss: 0.1794 - val_acc: 0.9430\n",
      "Epoch 37/40\n",
      "14s - loss: 0.2237 - acc: 0.9310 - val_loss: 0.3760 - val_acc: 0.9170\n",
      "Epoch 38/40\n",
      "14s - loss: 0.1898 - acc: 0.9330 - val_loss: 0.2272 - val_acc: 0.9400\n",
      "Epoch 39/40\n",
      "15s - loss: 0.2486 - acc: 0.9170 - val_loss: 0.1826 - val_acc: 0.9500\n",
      "Epoch 40/40\n",
      "14s - loss: 0.1972 - acc: 0.9340 - val_loss: 0.1520 - val_acc: 0.9300\n"
     ]
    }
   ],
   "source": [
    "from keras.preprocessing.image import ImageDataGenerator\n",
    "\n",
    "train_datagen = ImageDataGenerator(\n",
    "    rescale=1./255,\n",
    "    rotation_range=40,\n",
    "    width_shift_range=0.2,\n",
    "    height_shift_range=0.2,\n",
    "    shear_range=0.2,\n",
    "    zoom_range=0.2,\n",
    "    horizontal_flip=True,\n",
    "    fill_mode='nearest'\n",
    ")\n",
    "\n",
    "# Note that the validation data should not be augmented!\n",
    "test_datagen = ImageDataGenerator(rescale=1./255)\n",
    "\n",
    "train_generator = train_datagen.flow_from_directory(\n",
    "    train_dir, # This is the target directory\n",
    "    target_size=(150, 150), # All images will be resized to 150x150\n",
    "    batch_size=20,\n",
    "    class_mode='binary' # Since we use binary_crossentropy loss, we need binary labels\n",
    ")\n",
    "\n",
    "validation_generator = test_datagen.flow_from_directory(\n",
    "    validation_dir,\n",
    "    target_size=(150, 150),\n",
    "    batch_size=20,\n",
    "    class_mode='binary'\n",
    ")\n",
    "\n",
    "model.compile(\n",
    "    loss='binary_crossentropy',\n",
    "    optimizer=optimizers.RMSprop(lr=1e-4),\n",
    "    metrics=['acc']\n",
    ")\n",
    "\n",
    "history = model.fit_generator(\n",
    "    train_generator,\n",
    "    steps_per_epoch=100,\n",
    "    epochs=40,\n",
    "    validation_data=validation_generator,\n",
    "    validation_steps=50,\n",
    "    verbose=2\n",
    ")"
   ]
  },
  {
   "cell_type": "code",
   "execution_count": 14,
   "metadata": {
    "collapsed": false,
    "deletable": true,
    "editable": true
   },
   "outputs": [
    {
     "data": {
      "image/png": "[encoded data removed]",
      "text/plain": [
       "<matplotlib.figure.Figure at 0x7f74496def10>"
      ]
     },
     "metadata": {},
     "output_type": "display_data"
    },
    {
     "data": {
      "image/png": "[encoded data removed]",
      "text/plain": [
       "<matplotlib.figure.Figure at 0x7f73bc0a9390>"
      ]
     },
     "metadata": {},
     "output_type": "display_data"
    }
   ],
   "source": [
    "import matplotlib.pyplot as plt\n",
    "\n",
    "acc = history.history['acc']\n",
    "val_acc = history.history['val_acc']\n",
    "loss = history.history['loss']\n",
    "val_loss = history.history['val_loss']\n",
    "\n",
    "epochs = range(len(acc))\n",
    "\n",
    "plt.plot(epochs, acc, 'bo')\n",
    "plt.plot(epochs, val_acc, 'g')\n",
    "plt.title('Training and validation accuracy')\n",
    "\n",
    "plt.figure()\n",
    "\n",
    "plt.plot(epochs, loss, 'bo')\n",
    "plt.plot(epochs, val_loss, 'g')\n",
    "plt.title('Training and validation loss')\n",
    "\n",
    "plt.show()"
   ]
  },
  {
   "cell_type": "markdown",
   "metadata": {
    "collapsed": true,
    "deletable": true,
    "editable": true
   },
   "source": [
    "## 5.3.2 Fine-tuning"
   ]
  },
  {
   "cell_type": "code",
   "execution_count": 15,
   "metadata": {
    "collapsed": false,
    "deletable": true,
    "editable": true
   },
   "outputs": [],
   "source": [
    "conv_base.trainable = True\n",
    "\n",
    "set_trainable = False\n",
    "for layer in conv_base.layers:\n",
    "    if layer.name == 'block5_conv1':\n",
    "        set_trainable = True\n",
    "    if set_trainable:\n",
    "        layer.trainable = True\n",
    "    else:\n",
    "        layer.trainable = False"
   ]
  },
  {
   "cell_type": "code",
   "execution_count": 16,
   "metadata": {
    "collapsed": false,
    "deletable": true,
    "editable": true
   },
   "outputs": [
    {
     "name": "stdout",
     "output_type": "stream",
     "text": [
      "Epoch 1/100\n",
      "9s - loss: 0.1398 - acc: 0.9460 - val_loss: 0.1640 - val_acc: 0.9450\n",
      "Epoch 2/100\n",
      "9s - loss: 0.1250 - acc: 0.9535 - val_loss: 0.1979 - val_acc: 0.9440\n",
      "Epoch 3/100\n",
      "9s - loss: 0.1339 - acc: 0.9605 - val_loss: 0.1976 - val_acc: 0.9340\n",
      "Epoch 4/100\n",
      "9s - loss: 0.1498 - acc: 0.9530 - val_loss: 0.2239 - val_acc: 0.9380\n",
      "Epoch 5/100\n",
      "9s - loss: 0.1181 - acc: 0.9665 - val_loss: 0.1589 - val_acc: 0.9460\n",
      "Epoch 6/100\n",
      "8s - loss: 0.1494 - acc: 0.9580 - val_loss: 0.2651 - val_acc: 0.9380\n",
      "Epoch 7/100\n",
      "9s - loss: 0.1293 - acc: 0.9575 - val_loss: 0.2924 - val_acc: 0.9540\n",
      "Epoch 8/100\n",
      "9s - loss: 0.1262 - acc: 0.9560 - val_loss: 0.2089 - val_acc: 0.9470\n",
      "Epoch 9/100\n",
      "9s - loss: 0.1394 - acc: 0.9605 - val_loss: 0.2349 - val_acc: 0.9470\n",
      "Epoch 10/100\n",
      "9s - loss: 0.1468 - acc: 0.9525 - val_loss: 0.1514 - val_acc: 0.9410\n",
      "Epoch 11/100\n",
      "9s - loss: 0.1325 - acc: 0.9565 - val_loss: 0.2960 - val_acc: 0.9180\n",
      "Epoch 12/100\n",
      "9s - loss: 0.1253 - acc: 0.9530 - val_loss: 0.2272 - val_acc: 0.9420\n",
      "Epoch 13/100\n",
      "9s - loss: 0.1075 - acc: 0.9650 - val_loss: 0.2633 - val_acc: 0.9440\n",
      "Epoch 14/100\n",
      "9s - loss: 0.1323 - acc: 0.9550 - val_loss: 0.1823 - val_acc: 0.9450\n",
      "Epoch 15/100\n",
      "9s - loss: 0.1192 - acc: 0.9575 - val_loss: 0.2244 - val_acc: 0.9440\n",
      "Epoch 16/100\n",
      "9s - loss: 0.1316 - acc: 0.9540 - val_loss: 0.1998 - val_acc: 0.9330\n",
      "Epoch 17/100\n",
      "9s - loss: 0.0999 - acc: 0.9645 - val_loss: 0.2787 - val_acc: 0.9350\n",
      "Epoch 18/100\n",
      "9s - loss: 0.1035 - acc: 0.9665 - val_loss: 0.3327 - val_acc: 0.9370\n",
      "Epoch 19/100\n",
      "9s - loss: 0.1228 - acc: 0.9615 - val_loss: 0.2080 - val_acc: 0.9470\n",
      "Epoch 20/100\n",
      "9s - loss: 0.1282 - acc: 0.9630 - val_loss: 0.2859 - val_acc: 0.9390\n",
      "Epoch 21/100\n",
      "9s - loss: 0.1092 - acc: 0.9615 - val_loss: 0.2246 - val_acc: 0.9440\n",
      "Epoch 22/100\n",
      "9s - loss: 0.1267 - acc: 0.9640 - val_loss: 0.2977 - val_acc: 0.9400\n",
      "Epoch 23/100\n",
      "8s - loss: 0.1279 - acc: 0.9645 - val_loss: 0.1981 - val_acc: 0.9450\n",
      "Epoch 24/100\n",
      "9s - loss: 0.1359 - acc: 0.9615 - val_loss: 0.1883 - val_acc: 0.9480\n",
      "Epoch 25/100\n",
      "9s - loss: 0.1294 - acc: 0.9650 - val_loss: 0.4212 - val_acc: 0.9400\n",
      "Epoch 26/100\n",
      "8s - loss: 0.1403 - acc: 0.9645 - val_loss: 0.3744 - val_acc: 0.9440\n",
      "Epoch 27/100\n",
      "9s - loss: 0.1281 - acc: 0.9585 - val_loss: 0.2094 - val_acc: 0.9440\n",
      "Epoch 28/100\n",
      "9s - loss: 0.1096 - acc: 0.9665 - val_loss: 0.3715 - val_acc: 0.9380\n",
      "Epoch 29/100\n",
      "9s - loss: 0.1443 - acc: 0.9635 - val_loss: 0.3655 - val_acc: 0.9330\n",
      "Epoch 30/100\n",
      "9s - loss: 0.1484 - acc: 0.9575 - val_loss: 0.2184 - val_acc: 0.9400\n",
      "Epoch 31/100\n",
      "9s - loss: 0.1068 - acc: 0.9630 - val_loss: 0.2140 - val_acc: 0.9420\n",
      "Epoch 32/100\n",
      "8s - loss: 0.0940 - acc: 0.9675 - val_loss: 0.2748 - val_acc: 0.9380\n",
      "Epoch 33/100\n",
      "8s - loss: 0.1350 - acc: 0.9625 - val_loss: 0.2949 - val_acc: 0.9380\n",
      "Epoch 34/100\n",
      "8s - loss: 0.1021 - acc: 0.9655 - val_loss: 0.2508 - val_acc: 0.9460\n",
      "Epoch 35/100\n",
      "8s - loss: 0.1315 - acc: 0.9560 - val_loss: 0.3005 - val_acc: 0.9330\n",
      "Epoch 36/100\n",
      "9s - loss: 0.1198 - acc: 0.9665 - val_loss: 0.2464 - val_acc: 0.9510\n",
      "Epoch 37/100\n",
      "9s - loss: 0.0984 - acc: 0.9690 - val_loss: 0.3172 - val_acc: 0.9480\n",
      "Epoch 38/100\n",
      "8s - loss: 0.1690 - acc: 0.9595 - val_loss: 0.2273 - val_acc: 0.9560\n",
      "Epoch 39/100\n",
      "8s - loss: 0.1526 - acc: 0.9590 - val_loss: 0.2998 - val_acc: 0.9320\n",
      "Epoch 40/100\n",
      "8s - loss: 0.1141 - acc: 0.9600 - val_loss: 0.2171 - val_acc: 0.9470\n",
      "Epoch 41/100\n",
      "9s - loss: 0.1196 - acc: 0.9585 - val_loss: 0.3076 - val_acc: 0.9420\n",
      "Epoch 42/100\n",
      "9s - loss: 0.1265 - acc: 0.9660 - val_loss: 0.3019 - val_acc: 0.9400\n",
      "Epoch 43/100\n",
      "9s - loss: 0.1115 - acc: 0.9690 - val_loss: 0.2409 - val_acc: 0.9480\n",
      "Epoch 44/100\n",
      "8s - loss: 0.1244 - acc: 0.9605 - val_loss: 0.2750 - val_acc: 0.9590\n",
      "Epoch 45/100\n",
      "9s - loss: 0.1091 - acc: 0.9655 - val_loss: 0.1636 - val_acc: 0.9420\n",
      "Epoch 46/100\n",
      "8s - loss: 0.1141 - acc: 0.9650 - val_loss: 0.2693 - val_acc: 0.9400\n",
      "Epoch 47/100\n",
      "8s - loss: 0.1326 - acc: 0.9630 - val_loss: 0.2567 - val_acc: 0.9460\n",
      "Epoch 48/100\n",
      "9s - loss: 0.1597 - acc: 0.9610 - val_loss: 0.2892 - val_acc: 0.9410\n",
      "Epoch 49/100\n",
      "8s - loss: 0.1076 - acc: 0.9635 - val_loss: 0.2149 - val_acc: 0.9440\n",
      "Epoch 50/100\n",
      "9s - loss: 0.1071 - acc: 0.9595 - val_loss: 0.2424 - val_acc: 0.9380\n",
      "Epoch 51/100\n",
      "9s - loss: 0.1104 - acc: 0.9635 - val_loss: 0.2653 - val_acc: 0.9430\n",
      "Epoch 52/100\n",
      "8s - loss: 0.1245 - acc: 0.9675 - val_loss: 0.2612 - val_acc: 0.9380\n",
      "Epoch 53/100\n",
      "9s - loss: 0.1311 - acc: 0.9630 - val_loss: 0.3653 - val_acc: 0.9390\n",
      "Epoch 54/100\n",
      "8s - loss: 0.1441 - acc: 0.9625 - val_loss: 0.2534 - val_acc: 0.9440\n",
      "Epoch 55/100\n",
      "9s - loss: 0.1042 - acc: 0.9655 - val_loss: 0.2223 - val_acc: 0.9400\n",
      "Epoch 56/100\n",
      "9s - loss: 0.1284 - acc: 0.9625 - val_loss: 0.3481 - val_acc: 0.9400\n",
      "Epoch 57/100\n",
      "9s - loss: 0.1370 - acc: 0.9685 - val_loss: 0.3366 - val_acc: 0.9410\n",
      "Epoch 58/100\n",
      "9s - loss: 0.1182 - acc: 0.9665 - val_loss: 0.2451 - val_acc: 0.9490\n",
      "Epoch 59/100\n",
      "9s - loss: 0.1394 - acc: 0.9650 - val_loss: 0.3647 - val_acc: 0.9440\n",
      "Epoch 60/100\n",
      "8s - loss: 0.1707 - acc: 0.9595 - val_loss: 0.2246 - val_acc: 0.9440\n",
      "Epoch 61/100\n",
      "9s - loss: 0.1244 - acc: 0.9690 - val_loss: 0.3252 - val_acc: 0.9430\n",
      "Epoch 62/100\n",
      "9s - loss: 0.1158 - acc: 0.9620 - val_loss: 0.3437 - val_acc: 0.9310\n",
      "Epoch 63/100\n",
      "8s - loss: 0.1274 - acc: 0.9650 - val_loss: 0.2800 - val_acc: 0.9440\n",
      "Epoch 64/100\n",
      "8s - loss: 0.1497 - acc: 0.9540 - val_loss: 0.1720 - val_acc: 0.9550\n",
      "Epoch 65/100\n",
      "9s - loss: 0.0976 - acc: 0.9655 - val_loss: 0.2364 - val_acc: 0.9460\n",
      "Epoch 66/100\n",
      "9s - loss: 0.0994 - acc: 0.9675 - val_loss: 0.2432 - val_acc: 0.9440\n",
      "Epoch 67/100\n",
      "9s - loss: 0.1484 - acc: 0.9625 - val_loss: 0.2744 - val_acc: 0.9430\n",
      "Epoch 68/100\n",
      "9s - loss: 0.1075 - acc: 0.9625 - val_loss: 0.2604 - val_acc: 0.9340\n",
      "Epoch 69/100\n",
      "8s - loss: 0.1523 - acc: 0.9620 - val_loss: 0.1729 - val_acc: 0.9490\n",
      "Epoch 70/100\n",
      "8s - loss: 0.1310 - acc: 0.9630 - val_loss: 0.3046 - val_acc: 0.9410\n",
      "Epoch 71/100\n",
      "9s - loss: 0.1315 - acc: 0.9675 - val_loss: 0.2591 - val_acc: 0.9390\n",
      "Epoch 72/100\n",
      "8s - loss: 0.1214 - acc: 0.9640 - val_loss: 0.2003 - val_acc: 0.9510\n",
      "Epoch 73/100\n",
      "8s - loss: 0.1178 - acc: 0.9650 - val_loss: 0.2504 - val_acc: 0.9480\n",
      "Epoch 74/100\n",
      "8s - loss: 0.1250 - acc: 0.9660 - val_loss: 0.2667 - val_acc: 0.9520\n",
      "Epoch 75/100\n",
      "8s - loss: 0.1008 - acc: 0.9620 - val_loss: 0.3112 - val_acc: 0.9420\n",
      "Epoch 76/100\n",
      "9s - loss: 0.1513 - acc: 0.9620 - val_loss: 0.2314 - val_acc: 0.9470\n",
      "Epoch 77/100\n",
      "9s - loss: 0.1466 - acc: 0.9695 - val_loss: 0.3254 - val_acc: 0.9430\n",
      "Epoch 78/100\n",
      "9s - loss: 0.1161 - acc: 0.9660 - val_loss: 0.2874 - val_acc: 0.9450\n",
      "Epoch 79/100\n",
      "8s - loss: 0.0911 - acc: 0.9675 - val_loss: 0.2394 - val_acc: 0.9430\n",
      "Epoch 80/100\n",
      "9s - loss: 0.1023 - acc: 0.9655 - val_loss: 0.5936 - val_acc: 0.9270\n",
      "Epoch 81/100\n",
      "8s - loss: 0.1460 - acc: 0.9615 - val_loss: 0.3378 - val_acc: 0.9410\n",
      "Epoch 82/100\n",
      "9s - loss: 0.1625 - acc: 0.9605 - val_loss: 0.2391 - val_acc: 0.9470\n",
      "Epoch 83/100\n",
      "8s - loss: 0.0983 - acc: 0.9605 - val_loss: 0.3260 - val_acc: 0.9490\n",
      "Epoch 84/100\n",
      "8s - loss: 0.1089 - acc: 0.9640 - val_loss: 0.2108 - val_acc: 0.9370\n",
      "Epoch 85/100\n",
      "8s - loss: 0.1178 - acc: 0.9640 - val_loss: 0.2717 - val_acc: 0.9410\n",
      "Epoch 86/100\n",
      "8s - loss: 0.1113 - acc: 0.9655 - val_loss: 0.2617 - val_acc: 0.9430\n",
      "Epoch 87/100\n",
      "8s - loss: 0.1325 - acc: 0.9590 - val_loss: 0.3202 - val_acc: 0.9420\n",
      "Epoch 88/100\n",
      "9s - loss: 0.1212 - acc: 0.9615 - val_loss: 0.2830 - val_acc: 0.9470\n",
      "Epoch 89/100\n",
      "8s - loss: 0.1332 - acc: 0.9645 - val_loss: 0.2546 - val_acc: 0.9470\n",
      "Epoch 90/100\n",
      "8s - loss: 0.1490 - acc: 0.9665 - val_loss: 0.2052 - val_acc: 0.9510\n",
      "Epoch 91/100\n",
      "8s - loss: 0.1084 - acc: 0.9730 - val_loss: 0.3818 - val_acc: 0.9400\n",
      "Epoch 92/100\n",
      "9s - loss: 0.1734 - acc: 0.9615 - val_loss: 0.5286 - val_acc: 0.9420\n",
      "Epoch 93/100\n",
      "8s - loss: 0.1978 - acc: 0.9565 - val_loss: 0.3100 - val_acc: 0.9530\n",
      "Epoch 94/100\n",
      "8s - loss: 0.1265 - acc: 0.9665 - val_loss: 0.2486 - val_acc: 0.9460\n",
      "Epoch 95/100\n",
      "8s - loss: 0.1147 - acc: 0.9690 - val_loss: 0.3820 - val_acc: 0.9410\n",
      "Epoch 96/100\n",
      "8s - loss: 0.1671 - acc: 0.9615 - val_loss: 0.2859 - val_acc: 0.9490\n",
      "Epoch 97/100\n",
      "8s - loss: 0.1331 - acc: 0.9595 - val_loss: 0.2536 - val_acc: 0.9460\n",
      "Epoch 98/100\n",
      "9s - loss: 0.1261 - acc: 0.9705 - val_loss: 0.3022 - val_acc: 0.9460\n",
      "Epoch 99/100\n",
      "9s - loss: 0.1337 - acc: 0.9635 - val_loss: 0.2923 - val_acc: 0.9460\n",
      "Epoch 100/100\n",
      "8s - loss: 0.1483 - acc: 0.9615 - val_loss: 0.2592 - val_acc: 0.9360\n"
     ]
    }
   ],
   "source": [
    "model.compile(\n",
    "    loss='binary_crossentropy',\n",
    "    optimizer=optimizers.RMSprop(lr=1e-4),\n",
    "    metrics=['acc']\n",
    ")\n",
    "\n",
    "history = model.fit_generator(\n",
    "    train_generator,\n",
    "    steps_per_epoch=100,\n",
    "    epochs=100,\n",
    "    validation_data=validation_generator,\n",
    "    validation_steps=50,\n",
    "    verbose=2\n",
    ")"
   ]
  },
  {
   "cell_type": "code",
   "execution_count": 17,
   "metadata": {
    "collapsed": false
   },
   "outputs": [
    {
     "data": {
      "image/png": "[encoded data removed]",
      "text/plain": [
       "<matplotlib.figure.Figure at 0x7f7397dd0290>"
      ]
     },
     "metadata": {},
     "output_type": "display_data"
    },
    {
     "data": {
      "image/png": "[encoded data removed]",
      "text/plain": [
       "<matplotlib.figure.Figure at 0x7f7397d45e50>"
      ]
     },
     "metadata": {},
     "output_type": "display_data"
    }
   ],
   "source": [
    "acc = history.history['acc']\n",
    "val_acc = history.history['val_acc']\n",
    "loss = history.history['loss']\n",
    "val_loss = history.history['val_loss']\n",
    "\n",
    "epochs = range(len(acc))\n",
    "\n",
    "plt.plot(epochs, acc, 'bo')\n",
    "plt.plot(epochs, val_acc, 'g')\n",
    "plt.title('Training and validation accuracy')\n",
    "\n",
    "plt.figure()\n",
    "\n",
    "plt.plot(epochs, loss, 'bo')\n",
    "plt.plot(epochs, val_loss, 'g')\n",
    "plt.title('Training and validation loss')\n",
    "\n",
    "plt.show()"
   ]
  },
  {
   "cell_type": "code",
   "execution_count": 20,
   "metadata": {
    "collapsed": false
   },
   "outputs": [
    {
     "data": {
      "image/png": "[encoded data removed]",
      "text/plain": [
       "<matplotlib.figure.Figure at 0x7f7397c723d0>"
      ]
     },
     "metadata": {},
     "output_type": "display_data"
    },
    {
     "data": {
      "image/png": "[encoded data removed]",
      "text/plain": [
       "<matplotlib.figure.Figure at 0x7f73b40b4710>"
      ]
     },
     "metadata": {},
     "output_type": "display_data"
    }
   ],
   "source": [
    "def smooth_curve(points, factor=0.8):\n",
    "    smoothed_points = []\n",
    "    for point in points:\n",
    "        if smoothed_points:\n",
    "            previous = smoothed_points[-1]\n",
    "            smoothed_points.append(previous * factor + point * (1 - factor))\n",
    "        else:\n",
    "            smoothed_points.append(point)\n",
    "    return smoothed_points\n",
    "    \n",
    "plt.plot(epochs, smooth_curve(acc), 'bo')\n",
    "plt.plot(epochs, smooth_curve(val_acc), 'b')\n",
    "plt.title('Training and validation accuracy')\n",
    "\n",
    "plt.figure()\n",
    "\n",
    "plt.plot(epochs, smooth_curve(loss), 'bo')\n",
    "plt.plot(epochs, smooth_curve(val_loss), 'b')\n",
    "plt.title('Training and validation loss')\n",
    "\n",
    "plt.show()"
   ]
  },
  {
   "cell_type": "code",
   "execution_count": null,
   "metadata": {
    "collapsed": true
   },
   "outputs": [],
   "source": []
  }
 ],
 "metadata": {
  "kernelspec": {
   "display_name": "Python 2",
   "language": "python",
   "name": "python2"
  },
  "language_info": {
   "codemirror_mode": {
    "name": "ipython",
    "version": 2
   },
   "file_extension": ".py",
   "mimetype": "text/x-python",
   "name": "python",
   "nbconvert_exporter": "python",
   "pygments_lexer": "ipython2",
   "version": "2.7.12"
  }
 },
 "nbformat": 4,
 "nbformat_minor": 0
}
